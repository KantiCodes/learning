{
  "cells": [
    {
      "cell_type": "code",
      "execution_count": 1,
      "metadata": {
        "id": "2DgUqv0e01gj"
      },
      "outputs": [],
      "source": [
        "#setup code\n",
        "import os\n",
        "os.environ['USERNAME'] = 'me' #any alias"
      ]
    },
    {
      "cell_type": "code",
      "execution_count": 2,
      "metadata": {
        "colab": {
          "base_uri": "https://localhost:8080/"
        },
        "id": "LJyo5Zrs1Afz",
        "outputId": "ae3fa09a-7e98-4cb5-9332-b53be3d9c327"
      },
      "outputs": [
        {
          "name": "stdout",
          "output_type": "stream",
          "text": [
            "Collecting metaflow\n",
            "  Downloading metaflow-2.12.17-py2.py3-none-any.whl.metadata (5.9 kB)\n",
            "Requirement already satisfied: requests in /usr/local/lib/python3.10/dist-packages (from metaflow) (2.32.3)\n",
            "Collecting boto3 (from metaflow)\n",
            "  Downloading boto3-1.35.7-py3-none-any.whl.metadata (6.6 kB)\n",
            "Collecting botocore<1.36.0,>=1.35.7 (from boto3->metaflow)\n",
            "  Downloading botocore-1.35.7-py3-none-any.whl.metadata (5.7 kB)\n",
            "Collecting jmespath<2.0.0,>=0.7.1 (from boto3->metaflow)\n",
            "  Downloading jmespath-1.0.1-py3-none-any.whl.metadata (7.6 kB)\n",
            "Collecting s3transfer<0.11.0,>=0.10.0 (from boto3->metaflow)\n",
            "  Downloading s3transfer-0.10.2-py3-none-any.whl.metadata (1.7 kB)\n",
            "Requirement already satisfied: charset-normalizer<4,>=2 in /usr/local/lib/python3.10/dist-packages (from requests->metaflow) (3.3.2)\n",
            "Requirement already satisfied: idna<4,>=2.5 in /usr/local/lib/python3.10/dist-packages (from requests->metaflow) (3.7)\n",
            "Requirement already satisfied: urllib3<3,>=1.21.1 in /usr/local/lib/python3.10/dist-packages (from requests->metaflow) (2.0.7)\n",
            "Requirement already satisfied: certifi>=2017.4.17 in /usr/local/lib/python3.10/dist-packages (from requests->metaflow) (2024.7.4)\n",
            "Requirement already satisfied: python-dateutil<3.0.0,>=2.1 in /usr/local/lib/python3.10/dist-packages (from botocore<1.36.0,>=1.35.7->boto3->metaflow) (2.8.2)\n",
            "Requirement already satisfied: six>=1.5 in /usr/local/lib/python3.10/dist-packages (from python-dateutil<3.0.0,>=2.1->botocore<1.36.0,>=1.35.7->boto3->metaflow) (1.16.0)\n",
            "Downloading metaflow-2.12.17-py2.py3-none-any.whl (1.4 MB)\n",
            "\u001b[2K   \u001b[90m━━━━━━━━━━━━━━━━━━━━━━━━━━━━━━━━━━━━━━━━\u001b[0m \u001b[32m1.4/1.4 MB\u001b[0m \u001b[31m17.0 MB/s\u001b[0m eta \u001b[36m0:00:00\u001b[0m\n",
            "\u001b[?25hDownloading boto3-1.35.7-py3-none-any.whl (139 kB)\n",
            "\u001b[2K   \u001b[90m━━━━━━━━━━━━━━━━━━━━━━━━━━━━━━━━━━━━━━━━\u001b[0m \u001b[32m139.1/139.1 kB\u001b[0m \u001b[31m7.7 MB/s\u001b[0m eta \u001b[36m0:00:00\u001b[0m\n",
            "\u001b[?25hDownloading botocore-1.35.7-py3-none-any.whl (12.5 MB)\n",
            "\u001b[2K   \u001b[90m━━━━━━━━━━━━━━━━━━━━━━━━━━━━━━━━━━━━━━━━\u001b[0m \u001b[32m12.5/12.5 MB\u001b[0m \u001b[31m41.7 MB/s\u001b[0m eta \u001b[36m0:00:00\u001b[0m\n",
            "\u001b[?25hDownloading jmespath-1.0.1-py3-none-any.whl (20 kB)\n",
            "Downloading s3transfer-0.10.2-py3-none-any.whl (82 kB)\n",
            "\u001b[2K   \u001b[90m━━━━━━━━━━━━━━━━━━━━━━━━━━━━━━━━━━━━━━━━\u001b[0m \u001b[32m82.7/82.7 kB\u001b[0m \u001b[31m4.9 MB/s\u001b[0m eta \u001b[36m0:00:00\u001b[0m\n",
            "\u001b[?25hInstalling collected packages: jmespath, botocore, s3transfer, boto3, metaflow\n",
            "Successfully installed boto3-1.35.7 botocore-1.35.7 jmespath-1.0.1 metaflow-2.12.17 s3transfer-0.10.2\n"
          ]
        }
      ],
      "source": [
        "!pip install metaflow"
      ]
    },
    {
      "cell_type": "code",
      "execution_count": 3,
      "metadata": {
        "colab": {
          "base_uri": "https://localhost:8080/"
        },
        "id": "7ymlosrw1EN6",
        "outputId": "e1213bd0-33a3-49cf-ce45-b51c97d7b3b8"
      },
      "outputs": [
        {
          "name": "stdout",
          "output_type": "stream",
          "text": [
            "\u001b[35m\u001b[1mMetaflow \u001b[0m\u001b[35m\u001b[22m(2.12.17)\n",
            "\u001b[0m\n",
            "Pulling episode \u001b[0m\u001b[36m\"00-helloworld\"\u001b[0m into your current working directory.\u001b[0m\n",
            "Pulling episode \u001b[0m\u001b[36m\"01-playlist\"\u001b[0m into your current working directory.\u001b[0m\n",
            "Pulling episode \u001b[0m\u001b[36m\"02-statistics\"\u001b[0m into your current working directory.\u001b[0m\n",
            "Pulling episode \u001b[0m\u001b[36m\"03-playlist-redux\"\u001b[0m into your current working directory.\u001b[0m\n",
            "Pulling episode \u001b[0m\u001b[36m\"04-playlist-plus\"\u001b[0m into your current working directory.\u001b[0m\n",
            "Pulling episode \u001b[0m\u001b[36m\"05-hello-cloud\"\u001b[0m into your current working directory.\u001b[0m\n",
            "Pulling episode \u001b[0m\u001b[36m\"06-statistics-redux\"\u001b[0m into your current working directory.\u001b[0m\n",
            "Pulling episode \u001b[0m\u001b[36m\"07-worldview\"\u001b[0m into your current working directory.\u001b[0m\n",
            "Pulling episode \u001b[0m\u001b[36m\"08-autopilot\"\u001b[0m into your current working directory.\u001b[0m\n",
            "\n",
            "To know more about an episode, type:\n",
            "\u001b[0m\u001b[36mmetaflow tutorials info [EPISODE]\u001b[0m\n"
          ]
        }
      ],
      "source": [
        "!metaflow tutorials pull"
      ]
    },
    {
      "cell_type": "code",
      "execution_count": 4,
      "metadata": {
        "colab": {
          "base_uri": "https://localhost:8080/"
        },
        "id": "-rTKgdVg1CeT",
        "outputId": "c8f5e687-4a27-4c0f-d8e5-443f2f303ef4"
      },
      "outputs": [
        {
          "name": "stdout",
          "output_type": "stream",
          "text": [
            "\u001b[35m\u001b[1mMetaflow 2.12.17\u001b[0m\u001b[35m\u001b[22m executing \u001b[0m\u001b[31m\u001b[1mHelloFlow\u001b[0m\u001b[35m\u001b[22m\u001b[0m\u001b[35m\u001b[22m for \u001b[0m\u001b[31m\u001b[1muser:me\u001b[0m\u001b[35m\u001b[22m\u001b[K\u001b[0m\u001b[35m\u001b[22m\u001b[0m\n",
            "\u001b[22mCreating local datastore in current directory (/content/.metaflow)\u001b[K\u001b[0m\u001b[22m\u001b[0m\n",
            "\u001b[35m\u001b[22mValidating your flow...\u001b[K\u001b[0m\u001b[35m\u001b[22m\u001b[0m\n",
            "\u001b[32m\u001b[1m    The graph looks good!\u001b[K\u001b[0m\u001b[32m\u001b[1m\u001b[0m\n",
            "\u001b[35m\u001b[22mRunning pylint...\u001b[K\u001b[0m\u001b[35m\u001b[22m\u001b[0m\n",
            "\u001b[32m\u001b[22m    Pylint not found, so extra checks are disabled.\u001b[K\u001b[0m\u001b[32m\u001b[22m\u001b[0m\n",
            "\u001b[35m2024-08-28 11:53:14.561 \u001b[0m\u001b[1mWorkflow starting (run-id 1724845994553999):\u001b[0m\n",
            "\u001b[35m2024-08-28 11:53:14.575 \u001b[0m\u001b[32m[1724845994553999/start/1 (pid 525)] \u001b[0m\u001b[1mTask is starting.\u001b[0m\n",
            "\u001b[35m2024-08-28 11:53:15.224 \u001b[0m\u001b[32m[1724845994553999/start/1 (pid 525)] \u001b[0m\u001b[22mHelloFlow is starting.\u001b[0m\n",
            "\u001b[35m2024-08-28 11:53:15.304 \u001b[0m\u001b[32m[1724845994553999/start/1 (pid 525)] \u001b[0m\u001b[1mTask finished successfully.\u001b[0m\n",
            "\u001b[35m2024-08-28 11:53:15.309 \u001b[0m\u001b[32m[1724845994553999/hello/2 (pid 532)] \u001b[0m\u001b[1mTask is starting.\u001b[0m\n",
            "\u001b[35m2024-08-28 11:53:15.729 \u001b[0m\u001b[32m[1724845994553999/hello/2 (pid 532)] \u001b[0m\u001b[22mMetaflow says: Hi!\u001b[0m\n",
            "\u001b[35m2024-08-28 11:53:15.814 \u001b[0m\u001b[32m[1724845994553999/hello/2 (pid 532)] \u001b[0m\u001b[1mTask finished successfully.\u001b[0m\n",
            "\u001b[35m2024-08-28 11:53:15.819 \u001b[0m\u001b[32m[1724845994553999/end/3 (pid 535)] \u001b[0m\u001b[1mTask is starting.\u001b[0m\n",
            "\u001b[35m2024-08-28 11:53:16.253 \u001b[0m\u001b[32m[1724845994553999/end/3 (pid 535)] \u001b[0m\u001b[22mHelloFlow is all done.\u001b[0m\n",
            "\u001b[35m2024-08-28 11:53:16.331 \u001b[0m\u001b[32m[1724845994553999/end/3 (pid 535)] \u001b[0m\u001b[1mTask finished successfully.\u001b[0m\n",
            "\u001b[35m2024-08-28 11:53:16.332 \u001b[0m\u001b[1mDone!\u001b[0m\n"
          ]
        }
      ],
      "source": [
        "# run a tutorial episode\n",
        "!python metaflow-tutorials/00-helloworld/helloworld.py run"
      ]
    }
  ],
  "metadata": {
    "colab": {
      "provenance": []
    },
    "kernelspec": {
      "display_name": "Python 3",
      "name": "python3"
    },
    "language_info": {
      "name": "python",
      "version": "3.10.12"
    }
  },
  "nbformat": 4,
  "nbformat_minor": 0
}

{
 "cells": [
  {
   "cell_type": "markdown",
   "metadata": {},
   "source": [
    "## MLflow Local Deployment Demo"
   ]
  },
  {
   "cell_type": "raw",
   "metadata": {
    "vscode": {
     "languageId": "raw"
    }
   },
   "source": [
    "https://mlflow.org/docs/latest/deployment /deploy-model-locally.html"
   ]
  },
  {
   "cell_type": "code",
   "execution_count": 1,
   "metadata": {},
   "outputs": [],
   "source": [
    "import pandas as pd\n",
    "from sklearn import datasets\n",
    "from sklearn.linear_model import LogisticRegression\n",
    "from sklearn.metrics import accuracy_score\n",
    "from sklearn.model_selection import train_test_split\n",
    "\n",
    "import mlflow\n",
    "from mlflow.models import infer_signature"
   ]
  },
  {
   "cell_type": "markdown",
   "metadata": {},
   "source": [
    "### Star the Mlflow Server "
   ]
  },
  {
   "cell_type": "markdown",
   "metadata": {},
   "source": [
    "Anaconda PS CLI: mlflow server\n",
    "Default URI 127.0.0.1 and Port 5000"
   ]
  },
  {
   "cell_type": "markdown",
   "metadata": {},
   "source": [
    "## Load training data and train a simple model\n",
    "\n",
    "For our quickstart, we're going to be using the familiar iris dataset that is included in scikit-learn. Following the split of the data, we're going to train a simple logistic regression classifier on the training data and calculate some error metrics on our holdout test data. "
   ]
  },
  {
   "cell_type": "code",
   "execution_count": 15,
   "metadata": {},
   "outputs": [
    {
     "name": "stderr",
     "output_type": "stream",
     "text": [
      "/home/bla/.local/share/virtualenvs/mlops-0su7QrrH/lib/python3.10/site-packages/sklearn/linear_model/_logistic.py:1247: FutureWarning: 'multi_class' was deprecated in version 1.5 and will be removed in 1.7. From then on, it will always use 'multinomial'. Leave it to its default value to avoid this warning.\n",
      "  warnings.warn(\n"
     ]
    }
   ],
   "source": [
    "# Load the Iris dataset\n",
    "X, y = datasets.load_iris(return_X_y=True)\n",
    "\n",
    "# Split the data into training and test sets\n",
    "X_train, X_test, y_train, y_test = train_test_split(X, y, test_size=0.2, random_state=42)\n",
    "\n",
    "# Define the model hyperparameters\n",
    "params = {\"solver\": \"lbfgs\", \"max_iter\": 1000, \"multi_class\": \"auto\", \"random_state\": 8888}\n",
    "\n",
    "# Train the model\n",
    "lr = LogisticRegression(**params)\n",
    "lr.fit(X_train, y_train)\n",
    "\n",
    "# Predict on the test set\n",
    "y_pred = lr.predict(X_test)\n",
    "\n",
    "# Calculate accuracy as a target loss metric\n",
    "accuracy = accuracy_score(y_test, y_pred)"
   ]
  },
  {
   "cell_type": "markdown",
   "metadata": {},
   "source": [
    "### Set the Tracking URI\n",
    "\n",
    "Default is artifacts:/ but doesn't work for local deployment (at least, in Windows)\n",
    "Thus we set a local path for tracking"
   ]
  },
  {
   "cell_type": "code",
   "execution_count": 16,
   "metadata": {},
   "outputs": [],
   "source": [
    "mlflow.set_tracking_uri(uri=\"http://127.0.0.1:5000\")"
   ]
  },
  {
   "cell_type": "markdown",
   "metadata": {},
   "source": [
    "### Start (or create) an experiment\n",
    "\n",
    "Important: the experiment (and model, later) won't appear in the Mlflow UI, because they are tracked locally!"
   ]
  },
  {
   "cell_type": "code",
   "execution_count": 17,
   "metadata": {},
   "outputs": [],
   "source": [
    "from pathlib import Path\n",
    "\n",
    "experiment = mlflow.set_experiment(\"test5\")"
   ]
  },
  {
   "cell_type": "markdown",
   "metadata": {},
   "source": [
    "## Log the model, hyperparameters, and loss metrics to MLflow."
   ]
  },
  {
   "cell_type": "code",
   "execution_count": 18,
   "metadata": {},
   "outputs": [
    {
     "data": {
      "application/vnd.jupyter.widget-view+json": {
       "model_id": "2d8acdedc7fc4a679d2e991f79c39f87",
       "version_major": 2,
       "version_minor": 0
      },
      "text/plain": [
       "Downloading artifacts:   0%|          | 0/7 [00:00<?, ?it/s]"
      ]
     },
     "metadata": {},
     "output_type": "display_data"
    },
    {
     "name": "stderr",
     "output_type": "stream",
     "text": [
      "2024/09/06 09:41:04 INFO mlflow.tracking._tracking_service.client: 🏃 View run sedate-turtle-687 at: http://127.0.0.1:5000/#/experiments/707500131727696303/runs/2d7f51ad66dc411f8c89cbe06ac0317b.\n",
      "2024/09/06 09:41:04 INFO mlflow.tracking._tracking_service.client: 🧪 View experiment at: http://127.0.0.1:5000/#/experiments/707500131727696303.\n"
     ]
    }
   ],
   "source": [
    "# Start an MLflow run\n",
    "with mlflow.start_run() as run:\n",
    "    # Log the hyperparameters\n",
    "    mlflow.log_params(params)\n",
    "\n",
    "    # Log the loss metric\n",
    "    mlflow.log_metric(\"accuracy\", accuracy)\n",
    "\n",
    "    # Set a tag that we can use to remind ourselves what this run was for\n",
    "    mlflow.set_tag(\"Training Info\", \"Basic LR model for iris data\")\n",
    "\n",
    "    # Infer the model signature\n",
    "    signature = infer_signature(X_train, lr.predict(X_train))\n",
    "\n",
    "    # Log the model\n",
    "    model_info = mlflow.sklearn.log_model(\n",
    "        sk_model=lr,\n",
    "        artifact_path=\"iris_model\",\n",
    "        signature=signature,\n",
    "        input_example=X_train\n",
    "    )"
   ]
  },
  {
   "cell_type": "code",
   "execution_count": 19,
   "metadata": {},
   "outputs": [
    {
     "name": "stderr",
     "output_type": "stream",
     "text": [
      "Successfully registered model 'ClassificationModel'.\n",
      "2024/09/06 09:41:13 INFO mlflow.store.model_registry.abstract_store: Waiting up to 300 seconds for model version to finish creation. Model name: ClassificationModel, version 1\n"
     ]
    },
    {
     "name": "stdout",
     "output_type": "stream",
     "text": [
      "Name: ClassificationModel\n",
      "Version: 1\n"
     ]
    },
    {
     "name": "stderr",
     "output_type": "stream",
     "text": [
      "Created version '1' of model 'ClassificationModel'.\n"
     ]
    }
   ],
   "source": [
    "model_uri = f\"runs:/{run.info.run_id}/sklearn-model\"\n",
    "mv = mlflow.register_model(model_uri, \"ClassificationModel\")\n",
    "print(f\"Name: {mv.name}\")\n",
    "print(f\"Version: {mv.version}\")"
   ]
  },
  {
   "cell_type": "code",
   "execution_count": 26,
   "metadata": {},
   "outputs": [
    {
     "data": {
      "text/plain": [
       "<Run: data=<RunData: metrics={'accuracy': 1.0}, params={'max_iter': '1000',\n",
       " 'multi_class': 'auto',\n",
       " 'random_state': '8888',\n",
       " 'solver': 'lbfgs'}, tags={'Training Info': 'Basic LR model for iris data',\n",
       " 'mlflow.log-model.history': '[{\"run_id\": \"2d7f51ad66dc411f8c89cbe06ac0317b\", '\n",
       "                             '\"artifact_path\": \"iris_model\", '\n",
       "                             '\"utc_time_created\": \"2024-09-06 '\n",
       "                             '07:41:02.289577\", \"flavors\": {\"python_function\": '\n",
       "                             '{\"model_path\": \"model.pkl\", \"predict_fn\": '\n",
       "                             '\"predict\", \"loader_module\": \"mlflow.sklearn\", '\n",
       "                             '\"python_version\": \"3.10.12\", \"env\": {\"conda\": '\n",
       "                             '\"conda.yaml\", \"virtualenv\": \"python_env.yaml\"}}, '\n",
       "                             '\"sklearn\": {\"pickled_model\": \"model.pkl\", '\n",
       "                             '\"sklearn_version\": \"1.5.1\", '\n",
       "                             '\"serialization_format\": \"cloudpickle\", \"code\": '\n",
       "                             'null}}, \"model_uuid\": '\n",
       "                             '\"8655f7c476864776a0614c77b9617f0b\"}]',\n",
       " 'mlflow.runName': 'sedate-turtle-687',\n",
       " 'mlflow.source.name': '/home/bla/.local/share/virtualenvs/mlops-0su7QrrH/lib/python3.10/site-packages/ipykernel_launcher.py',\n",
       " 'mlflow.source.type': 'LOCAL',\n",
       " 'mlflow.user': 'bla'}>, info=<RunInfo: artifact_uri='mlflow-artifacts:/707500131727696303/2d7f51ad66dc411f8c89cbe06ac0317b/artifacts', end_time=1725608464179, experiment_id='707500131727696303', lifecycle_stage='active', run_id='2d7f51ad66dc411f8c89cbe06ac0317b', run_name='sedate-turtle-687', run_uuid='2d7f51ad66dc411f8c89cbe06ac0317b', start_time=1725608462247, status='FINISHED', user_id='bla'>, inputs=<RunInputs: dataset_inputs=[]>>"
      ]
     },
     "execution_count": 26,
     "metadata": {},
     "output_type": "execute_result"
    }
   ],
   "source": [
    "experiment\n",
    "experiment.experiment_id\n",
    "\n",
    "\n",
    "mlflow.get_run(run.info.run_id)"
   ]
  },
  {
   "cell_type": "code",
   "execution_count": 34,
   "metadata": {},
   "outputs": [
    {
     "data": {
      "text/plain": [
       "'mlflow-artifacts:/707500131727696303/e918f465d6a74a38b316ca706ec995d6/artifacts/2d7f51ad66dc411f8c89cbe06ac0317b'"
      ]
     },
     "execution_count": 34,
     "metadata": {},
     "output_type": "execute_result"
    }
   ],
   "source": [
    "run = mlflow.get_run(run.info.run_id)\n",
    "run.info\n",
    "mlflow.get_artifact_uri(run.info.run_id)"
   ]
  },
  {
   "cell_type": "code",
   "execution_count": 22,
   "metadata": {},
   "outputs": [
    {
     "name": "stdout",
     "output_type": "stream",
     "text": [
      "Traceback (most recent call last):\n",
      "  File \"/home/bla/.local/share/virtualenvs/mlops-0su7QrrH/bin/mlflow\", line 8, in <module>\n",
      "    sys.exit(cli())\n",
      "  File \"/home/bla/.local/share/virtualenvs/mlops-0su7QrrH/lib/python3.10/site-packages/click/core.py\", line 1157, in __call__\n",
      "    return self.main(*args, **kwargs)\n",
      "  File \"/home/bla/.local/share/virtualenvs/mlops-0su7QrrH/lib/python3.10/site-packages/click/core.py\", line 1078, in main\n",
      "    rv = self.invoke(ctx)\n",
      "  File \"/home/bla/.local/share/virtualenvs/mlops-0su7QrrH/lib/python3.10/site-packages/click/core.py\", line 1688, in invoke\n",
      "    return _process_result(sub_ctx.command.invoke(sub_ctx))\n",
      "  File \"/home/bla/.local/share/virtualenvs/mlops-0su7QrrH/lib/python3.10/site-packages/click/core.py\", line 1688, in invoke\n",
      "    return _process_result(sub_ctx.command.invoke(sub_ctx))\n",
      "  File \"/home/bla/.local/share/virtualenvs/mlops-0su7QrrH/lib/python3.10/site-packages/click/core.py\", line 1434, in invoke\n",
      "    return ctx.invoke(self.callback, **ctx.params)\n",
      "  File \"/home/bla/.local/share/virtualenvs/mlops-0su7QrrH/lib/python3.10/site-packages/click/core.py\", line 783, in invoke\n",
      "    return __callback(*args, **kwargs)\n",
      "  File \"/home/bla/.local/share/virtualenvs/mlops-0su7QrrH/lib/python3.10/site-packages/mlflow/models/cli.py\", line 103, in serve\n",
      "    return get_flavor_backend(\n",
      "  File \"/home/bla/.local/share/virtualenvs/mlops-0su7QrrH/lib/python3.10/site-packages/mlflow/models/flavor_backend_registry.py\", line 43, in get_flavor_backend\n",
      "    artifact_repo = get_artifact_repository(root_uri)\n",
      "  File \"/home/bla/.local/share/virtualenvs/mlops-0su7QrrH/lib/python3.10/site-packages/mlflow/store/artifact/artifact_repository_registry.py\", line 132, in get_artifact_repository\n",
      "    return _artifact_repository_registry.get_artifact_repository(artifact_uri)\n",
      "  File \"/home/bla/.local/share/virtualenvs/mlops-0su7QrrH/lib/python3.10/site-packages/mlflow/store/artifact/artifact_repository_registry.py\", line 77, in get_artifact_repository\n",
      "    return repository(artifact_uri)\n",
      "  File \"/home/bla/.local/share/virtualenvs/mlops-0su7QrrH/lib/python3.10/site-packages/mlflow/store/artifact/runs_artifact_repo.py\", line 26, in __init__\n",
      "    uri = RunsArtifactRepository.get_underlying_uri(artifact_uri)\n",
      "  File \"/home/bla/.local/share/virtualenvs/mlops-0su7QrrH/lib/python3.10/site-packages/mlflow/store/artifact/runs_artifact_repo.py\", line 39, in get_underlying_uri\n",
      "    uri = get_artifact_uri(run_id, artifact_path, tracking_uri)\n",
      "  File \"/home/bla/.local/share/virtualenvs/mlops-0su7QrrH/lib/python3.10/site-packages/mlflow/tracking/artifact_utils.py\", line 52, in get_artifact_uri\n",
      "    run = store.get_run(run_id)\n",
      "  File \"/home/bla/.local/share/virtualenvs/mlops-0su7QrrH/lib/python3.10/site-packages/mlflow/store/tracking/file_store.py\", line 693, in get_run\n",
      "    run_info = self._get_run_info(run_id)\n",
      "  File \"/home/bla/.local/share/virtualenvs/mlops-0su7QrrH/lib/python3.10/site-packages/mlflow/store/tracking/file_store.py\", line 718, in _get_run_info\n",
      "    raise MlflowException(\n",
      "mlflow.exceptions.MlflowException: Run '2d7f51ad66dc411f8c89cbe06ac0317b' not found\n"
     ]
    }
   ],
   "source": [
    "!mlflow models serve -m runs:/2d7f51ad66dc411f8c89cbe06ac0317b/sklearn-model -p 5000"
   ]
  },
  {
   "cell_type": "markdown",
   "metadata": {},
   "source": [
    "#### Start model serving\n",
    "\n",
    "Find the model artifact under the local tracking path\n",
    "The port has to be different than that of the Mlflow Server!\n",
    "\n",
    "Two options to run in Anaconda Power Shell CLI (both should be the same):"
   ]
  },
  {
   "cell_type": "markdown",
   "metadata": {},
   "source": [
    "Anaconda PS CLI: mlflow models serve -m C:\\tmp\\my_tracking_file\\974569135218729171\\f1b24cbfb9f54bb3ba1e0f458fcd990a\\artifacts\\iris_model -p 5001 --no-conda"
   ]
  },
  {
   "cell_type": "markdown",
   "metadata": {},
   "source": [
    "Anaconda PS CLI: mlflow models serve -m C:\\tmp\\my_tracking_file\\974569135218729171\\f1b24cbfb9f54bb3ba1e0f458fcd990a\\artifacts\\iris_model -p 5001  --env-manager local"
   ]
  },
  {
   "cell_type": "markdown",
   "metadata": {},
   "source": [
    "### Test the model serving service\n",
    "\n",
    "Ping is to check that is up and running"
   ]
  },
  {
   "cell_type": "code",
   "execution_count": 8,
   "metadata": {},
   "outputs": [
    {
     "name": "stdout",
     "output_type": "stream",
     "text": [
      "curl: (7) Failed to connect to 127.0.0.1 port 5001 after 0 ms: Connection refused\n"
     ]
    }
   ],
   "source": [
    "!curl http://127.0.0.1:5001/ping"
   ]
  },
  {
   "cell_type": "markdown",
   "metadata": {},
   "source": [
    "### Score the model by sending a request"
   ]
  },
  {
   "cell_type": "code",
   "execution_count": 403,
   "metadata": {},
   "outputs": [
    {
     "name": "stdout",
     "output_type": "stream",
     "text": [
      "{\"predictions\": [1]}\n"
     ]
    },
    {
     "name": "stderr",
     "output_type": "stream",
     "text": [
      "  % Total    % Received % Xferd  Average Speed   Time    Time     Time  Current\n",
      "                                 Dload  Upload   Total   Spent    Left  Speed\n",
      "\n",
      "  0     0    0     0    0     0      0      0 --:--:-- --:--:-- --:--:--     0\n",
      "100    55  100    20  100    35   5735  10037 --:--:-- --:--:-- --:--:-- 18333\n"
     ]
    }
   ],
   "source": [
    "!curl http://127.0.0.1:5001/invocations -H \"Content-Type: application/json\" -d \"{\\\"inputs\\\":[[0.09178,0.0,4.05,0.0]]}\""
   ]
  }
 ],
 "metadata": {
  "kernelspec": {
   "display_name": "mlops-0su7QrrH",
   "language": "python",
   "name": "python3"
  },
  "language_info": {
   "codemirror_mode": {
    "name": "ipython",
    "version": 3
   },
   "file_extension": ".py",
   "mimetype": "text/x-python",
   "name": "python",
   "nbconvert_exporter": "python",
   "pygments_lexer": "ipython3",
   "version": "3.10.12"
  }
 },
 "nbformat": 4,
 "nbformat_minor": 4
}

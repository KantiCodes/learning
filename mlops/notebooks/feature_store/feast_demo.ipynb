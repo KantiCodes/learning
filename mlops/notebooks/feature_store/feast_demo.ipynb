{
  "cells": [
    {
      "cell_type": "markdown",
      "metadata": {},
      "source": [
        "# Feature store\n",
        "Feature store is a concept that is used to store and manage features in a centralized way. The frameworks out there provide you with guidance\n",
        "and wiring methods to connect different parts of data processing pipeline. However the underlying decisions and implementations are left to the user(have to be implemented by the user).\n",
        "\n",
        "# Feat is a framework to create and maintain a feature store\n",
        "- you need to write your transformations yourself.\n",
        "\n",
        "Key benefits:\n",
        "- treat features as model ready artifacts that don't have to be cleaned but only used or further transformed in the model\n",
        "- avoid feature duplication\n",
        "- Unify training and serving data transformations to avoid train-serving skew\n",
        "- Enable feature sharing across teams or across researchers\n",
        "- Enable feature monitoring, tracking (for instance we can use great expectations to monitor the data quality)\n",
        "- Enable exploration of features\n",
        "\n",
        "# Kudos to US team:\n",
        "US team already has some notion of feature store. Where they share and store clean features.\n",
        "\n",
        "\n",
        "# Main idea continue - train-serving skew: (not so much applicable to our context yet, but maybe for intraday?)\n",
        "We have two types of data:\n",
        "- real-time data used to make predictioins in an instant fassion\n",
        "- batch/historical data used for training.\n",
        "\n",
        "The idea is that the training-serving skew happens if the pipeline of serving the model and training are separate from each other. It eventually leads to failures or quite failures due to for instance the fact that there are new features in the training data and training transformations that are not present in the serving pipeline."
      ]
    },
    {
      "cell_type": "code",
      "execution_count": null,
      "metadata": {
        "id": "-rktvZllhugd"
      },
      "outputs": [],
      "source": [
        "!pip install feast"
      ]
    },
    {
      "cell_type": "code",
      "execution_count": 2,
      "metadata": {
        "colab": {
          "base_uri": "https://localhost:8080/"
        },
        "id": "PgS2LZWAh2WM",
        "outputId": "29456beb-68b3-465e-b86a-a127f828f86c"
      },
      "outputs": [
        {
          "name": "stdout",
          "output_type": "stream",
          "text": [
            "\n",
            "Creating a new Feast repository in \u001b[1m\u001b[32m/home/bla/projects/aau/mlops/notebooks/feature_store/my_project\u001b[0m.\n",
            "\n"
          ]
        }
      ],
      "source": [
        "!feast init my_project"
      ]
    },
    {
      "cell_type": "code",
      "execution_count": 3,
      "metadata": {
        "colab": {
          "base_uri": "https://localhost:8080/"
        },
        "id": "u8ntr3eGh54q",
        "outputId": "5fb062b7-7635-49dc-eb24-069b8757fe97"
      },
      "outputs": [
        {
          "name": "stdout",
          "output_type": "stream",
          "text": [
            "/home/bla/projects/aau/mlops/notebooks/feature_store/my_project/feature_repo\n"
          ]
        },
        {
          "name": "stderr",
          "output_type": "stream",
          "text": [
            "/home/bla/.local/share/virtualenvs/mlops-0su7QrrH/lib/python3.10/site-packages/IPython/core/magics/osm.py:417: UserWarning: This is now an optional IPython functionality, setting dhist requires you to install the `pickleshare` library.\n",
            "  self.shell.db['dhist'] = compress_dhist(dhist)[-100:]\n"
          ]
        }
      ],
      "source": [
        "cd my_project/feature_repo"
      ]
    },
    {
      "cell_type": "code",
      "execution_count": 4,
      "metadata": {
        "colab": {
          "base_uri": "https://localhost:8080/",
          "height": 423
        },
        "id": "FJYcWBeiipbW",
        "outputId": "cb63535b-c5bf-4a77-c8b3-5a60cbae0875"
      },
      "outputs": [
        {
          "data": {
            "text/html": [
              "<div>\n",
              "<style scoped>\n",
              "    .dataframe tbody tr th:only-of-type {\n",
              "        vertical-align: middle;\n",
              "    }\n",
              "\n",
              "    .dataframe tbody tr th {\n",
              "        vertical-align: top;\n",
              "    }\n",
              "\n",
              "    .dataframe thead th {\n",
              "        text-align: right;\n",
              "    }\n",
              "</style>\n",
              "<table border=\"1\" class=\"dataframe\">\n",
              "  <thead>\n",
              "    <tr style=\"text-align: right;\">\n",
              "      <th></th>\n",
              "      <th>event_timestamp</th>\n",
              "      <th>driver_id</th>\n",
              "      <th>conv_rate</th>\n",
              "      <th>acc_rate</th>\n",
              "      <th>avg_daily_trips</th>\n",
              "      <th>created</th>\n",
              "    </tr>\n",
              "  </thead>\n",
              "  <tbody>\n",
              "    <tr>\n",
              "      <th>0</th>\n",
              "      <td>2024-08-21 13:00:00+00:00</td>\n",
              "      <td>1005</td>\n",
              "      <td>0.097577</td>\n",
              "      <td>0.495715</td>\n",
              "      <td>586</td>\n",
              "      <td>2024-09-05 13:04:00.258</td>\n",
              "    </tr>\n",
              "    <tr>\n",
              "      <th>1</th>\n",
              "      <td>2024-08-21 14:00:00+00:00</td>\n",
              "      <td>1005</td>\n",
              "      <td>0.576356</td>\n",
              "      <td>0.254795</td>\n",
              "      <td>340</td>\n",
              "      <td>2024-09-05 13:04:00.258</td>\n",
              "    </tr>\n",
              "    <tr>\n",
              "      <th>2</th>\n",
              "      <td>2024-08-21 15:00:00+00:00</td>\n",
              "      <td>1005</td>\n",
              "      <td>0.617877</td>\n",
              "      <td>0.113315</td>\n",
              "      <td>554</td>\n",
              "      <td>2024-09-05 13:04:00.258</td>\n",
              "    </tr>\n",
              "    <tr>\n",
              "      <th>3</th>\n",
              "      <td>2024-08-21 16:00:00+00:00</td>\n",
              "      <td>1005</td>\n",
              "      <td>0.846933</td>\n",
              "      <td>0.332277</td>\n",
              "      <td>920</td>\n",
              "      <td>2024-09-05 13:04:00.258</td>\n",
              "    </tr>\n",
              "    <tr>\n",
              "      <th>4</th>\n",
              "      <td>2024-08-21 17:00:00+00:00</td>\n",
              "      <td>1005</td>\n",
              "      <td>0.721526</td>\n",
              "      <td>0.165804</td>\n",
              "      <td>832</td>\n",
              "      <td>2024-09-05 13:04:00.258</td>\n",
              "    </tr>\n",
              "    <tr>\n",
              "      <th>...</th>\n",
              "      <td>...</td>\n",
              "      <td>...</td>\n",
              "      <td>...</td>\n",
              "      <td>...</td>\n",
              "      <td>...</td>\n",
              "      <td>...</td>\n",
              "    </tr>\n",
              "    <tr>\n",
              "      <th>1802</th>\n",
              "      <td>2024-09-05 11:00:00+00:00</td>\n",
              "      <td>1001</td>\n",
              "      <td>0.650213</td>\n",
              "      <td>0.260819</td>\n",
              "      <td>693</td>\n",
              "      <td>2024-09-05 13:04:00.258</td>\n",
              "    </tr>\n",
              "    <tr>\n",
              "      <th>1803</th>\n",
              "      <td>2024-09-05 12:00:00+00:00</td>\n",
              "      <td>1001</td>\n",
              "      <td>0.084032</td>\n",
              "      <td>0.386191</td>\n",
              "      <td>21</td>\n",
              "      <td>2024-09-05 13:04:00.258</td>\n",
              "    </tr>\n",
              "    <tr>\n",
              "      <th>1804</th>\n",
              "      <td>2021-04-12 07:00:00+00:00</td>\n",
              "      <td>1001</td>\n",
              "      <td>0.314292</td>\n",
              "      <td>0.412562</td>\n",
              "      <td>743</td>\n",
              "      <td>2024-09-05 13:04:00.258</td>\n",
              "    </tr>\n",
              "    <tr>\n",
              "      <th>1805</th>\n",
              "      <td>2024-08-29 01:00:00+00:00</td>\n",
              "      <td>1003</td>\n",
              "      <td>0.724839</td>\n",
              "      <td>0.608073</td>\n",
              "      <td>12</td>\n",
              "      <td>2024-09-05 13:04:00.258</td>\n",
              "    </tr>\n",
              "    <tr>\n",
              "      <th>1806</th>\n",
              "      <td>2024-08-29 01:00:00+00:00</td>\n",
              "      <td>1003</td>\n",
              "      <td>0.724839</td>\n",
              "      <td>0.608073</td>\n",
              "      <td>12</td>\n",
              "      <td>2024-09-05 13:04:00.258</td>\n",
              "    </tr>\n",
              "  </tbody>\n",
              "</table>\n",
              "<p>1807 rows × 6 columns</p>\n",
              "</div>"
            ],
            "text/plain": [
              "               event_timestamp  driver_id  conv_rate  acc_rate  \\\n",
              "0    2024-08-21 13:00:00+00:00       1005   0.097577  0.495715   \n",
              "1    2024-08-21 14:00:00+00:00       1005   0.576356  0.254795   \n",
              "2    2024-08-21 15:00:00+00:00       1005   0.617877  0.113315   \n",
              "3    2024-08-21 16:00:00+00:00       1005   0.846933  0.332277   \n",
              "4    2024-08-21 17:00:00+00:00       1005   0.721526  0.165804   \n",
              "...                        ...        ...        ...       ...   \n",
              "1802 2024-09-05 11:00:00+00:00       1001   0.650213  0.260819   \n",
              "1803 2024-09-05 12:00:00+00:00       1001   0.084032  0.386191   \n",
              "1804 2021-04-12 07:00:00+00:00       1001   0.314292  0.412562   \n",
              "1805 2024-08-29 01:00:00+00:00       1003   0.724839  0.608073   \n",
              "1806 2024-08-29 01:00:00+00:00       1003   0.724839  0.608073   \n",
              "\n",
              "      avg_daily_trips                 created  \n",
              "0                 586 2024-09-05 13:04:00.258  \n",
              "1                 340 2024-09-05 13:04:00.258  \n",
              "2                 554 2024-09-05 13:04:00.258  \n",
              "3                 920 2024-09-05 13:04:00.258  \n",
              "4                 832 2024-09-05 13:04:00.258  \n",
              "...               ...                     ...  \n",
              "1802              693 2024-09-05 13:04:00.258  \n",
              "1803               21 2024-09-05 13:04:00.258  \n",
              "1804              743 2024-09-05 13:04:00.258  \n",
              "1805               12 2024-09-05 13:04:00.258  \n",
              "1806               12 2024-09-05 13:04:00.258  \n",
              "\n",
              "[1807 rows x 6 columns]"
            ]
          },
          "execution_count": 4,
          "metadata": {},
          "output_type": "execute_result"
        }
      ],
      "source": [
        "import pandas as pd\n",
        "pd.read_parquet(\"data/driver_stats.parquet\")"
      ]
    },
    {
      "cell_type": "code",
      "execution_count": 5,
      "metadata": {
        "colab": {
          "base_uri": "https://localhost:8080/"
        },
        "id": "SABWgrw-iwyI",
        "outputId": "942f71b0-5f81-4129-915d-8468ff7f491b"
      },
      "outputs": [
        {
          "name": "stdout",
          "output_type": "stream",
          "text": [
            "/home/bla/.local/share/virtualenvs/mlops-0su7QrrH/lib/python3.10/site-packages/feast/feature_store.py:590: RuntimeWarning: On demand feature view is an experimental feature. This API is stable, but the functionality does not scale well for offline retrieval\n",
            "  warnings.warn(\n",
            "09/05/2024 01:04:57 PM root WARNING: Cannot use sqlite_vec for vector search\n",
            "09/05/2024 01:04:57 PM root WARNING: Cannot use sqlite_vec for vector search\n",
            "09/05/2024 01:04:57 PM root WARNING: Cannot use sqlite_vec for vector search\n",
            "09/05/2024 01:04:57 PM root WARNING: Cannot use sqlite_vec for vector search\n",
            "Created entity \u001b[1m\u001b[32mdriver\u001b[0m\n",
            "Created feature view \u001b[1m\u001b[32mdriver_hourly_stats_fresh\u001b[0m\n",
            "Created feature view \u001b[1m\u001b[32mdriver_hourly_stats\u001b[0m\n",
            "Created on demand feature view \u001b[1m\u001b[32mtransformed_conv_rate\u001b[0m\n",
            "Created on demand feature view \u001b[1m\u001b[32mtransformed_conv_rate_fresh\u001b[0m\n",
            "Created feature service \u001b[1m\u001b[32mdriver_activity_v2\u001b[0m\n",
            "Created feature service \u001b[1m\u001b[32mdriver_activity_v1\u001b[0m\n",
            "Created feature service \u001b[1m\u001b[32mdriver_activity_v3\u001b[0m\n",
            "\n",
            "09/05/2024 01:04:57 PM root WARNING: Cannot use sqlite_vec for vector search\n",
            "09/05/2024 01:04:57 PM root WARNING: Cannot use sqlite_vec for vector search\n",
            "09/05/2024 01:04:57 PM root WARNING: Cannot use sqlite_vec for vector search\n",
            "09/05/2024 01:04:57 PM root WARNING: Cannot use sqlite_vec for vector search\n",
            "Created sqlite table \u001b[1m\u001b[32mmy_project_driver_hourly_stats_fresh\u001b[0m\n",
            "Created sqlite table \u001b[1m\u001b[32mmy_project_driver_hourly_stats\u001b[0m\n",
            "\n"
          ]
        }
      ],
      "source": [
        "!feast apply"
      ]
    },
    {
      "cell_type": "code",
      "execution_count": null,
      "metadata": {},
      "outputs": [],
      "source": []
    },
    {
      "cell_type": "code",
      "execution_count": 7,
      "metadata": {
        "colab": {
          "base_uri": "https://localhost:8080/"
        },
        "id": "j1Oz5ko8i-62",
        "outputId": "32f72077-3355-4b74-e8e6-c5f3def7aa5f"
      },
      "outputs": [
        {
          "name": "stderr",
          "output_type": "stream",
          "text": [
            "WARNING:root:_list_feature_views will make breaking changes. Please use _list_batch_feature_views instead. _list_feature_views will behave like _list_all_feature_views in the future.\n"
          ]
        },
        {
          "name": "stdout",
          "output_type": "stream",
          "text": [
            "----- Feature schema -----\n",
            "\n",
            "<class 'pandas.core.frame.DataFrame'>\n",
            "RangeIndex: 3 entries, 0 to 2\n",
            "Data columns (total 10 columns):\n",
            " #   Column                              Non-Null Count  Dtype              \n",
            "---  ------                              --------------  -----              \n",
            " 0   driver_id                           3 non-null      int64              \n",
            " 1   event_timestamp                     3 non-null      datetime64[ns, UTC]\n",
            " 2   label_driver_reported_satisfaction  3 non-null      int64              \n",
            " 3   val_to_add                          3 non-null      int64              \n",
            " 4   val_to_add_2                        3 non-null      int64              \n",
            " 5   conv_rate                           3 non-null      float32            \n",
            " 6   acc_rate                            3 non-null      float32            \n",
            " 7   avg_daily_trips                     3 non-null      int32              \n",
            " 8   conv_rate_plus_val1                 3 non-null      float64            \n",
            " 9   conv_rate_plus_val2                 3 non-null      float64            \n",
            "dtypes: datetime64[ns, UTC](1), float32(2), float64(2), int32(1), int64(4)\n",
            "memory usage: 332.0 bytes\n",
            "None\n",
            "\n",
            "----- Example features -----\n",
            "\n",
            "   driver_id           event_timestamp  label_driver_reported_satisfaction  \\\n",
            "0       1001 2021-04-12 10:59:42+00:00                                   1   \n",
            "1       1002 2021-04-12 08:12:10+00:00                                   5   \n",
            "2       1003 2021-04-12 16:40:26+00:00                                   3   \n",
            "\n",
            "   val_to_add  val_to_add_2  conv_rate  acc_rate  avg_daily_trips  \\\n",
            "0           1            10   0.446024  0.317182              546   \n",
            "1           2            20   0.533521  0.625689              890   \n",
            "2           3            30   0.456266  0.885976              570   \n",
            "\n",
            "   conv_rate_plus_val1  conv_rate_plus_val2  \n",
            "0             1.446024            10.446024  \n",
            "1             2.533521            20.533521  \n",
            "2             3.456266            30.456266  \n"
          ]
        }
      ],
      "source": [
        "from datetime import datetime\n",
        "import pandas as pd\n",
        "\n",
        "from feast import FeatureStore\n",
        "\n",
        "# Note: see https://docs.feast.dev/getting-started/concepts/feature-retrieval for\n",
        "# more details on how to retrieve for all entities in the offline store instead\n",
        "entity_df = pd.DataFrame.from_dict(\n",
        "    {\n",
        "        # entity's join key -> entity values\n",
        "        \"driver_id\": [1001, 1002, 1003],\n",
        "        # \"event_timestamp\" (reserved key) -> timestamps\n",
        "        \"event_timestamp\": [\n",
        "            datetime(2021, 4, 12, 10, 59, 42),\n",
        "            datetime(2021, 4, 12, 8, 12, 10),\n",
        "            datetime(2021, 4, 12, 16, 40, 26),\n",
        "        ],\n",
        "        # (optional) label name -> label values. Feast does not process these\n",
        "        \"label_driver_reported_satisfaction\": [1, 5, 3],\n",
        "        # values we're using for an on-demand transformation\n",
        "        \"val_to_add\": [1, 2, 3],\n",
        "        \"val_to_add_2\": [10, 20, 30],\n",
        "    }\n",
        ")\n",
        "\n",
        "store = FeatureStore(repo_path=\".\")\n",
        "\n",
        "training_df = store.get_historical_features(\n",
        "    entity_df=entity_df,\n",
        "    # This features would typically come as a request from a model\n",
        "    features=[\n",
        "        \"driver_hourly_stats:conv_rate\",\n",
        "        \"driver_hourly_stats:acc_rate\",\n",
        "        \"driver_hourly_stats:avg_daily_trips\",\n",
        "        \"transformed_conv_rate:conv_rate_plus_val1\",\n",
        "        \"transformed_conv_rate:conv_rate_plus_val2\",\n",
        "    ],\n",
        ").to_df()\n",
        "\n",
        "print(\"----- Feature schema -----\\n\")\n",
        "print(training_df.info())\n",
        "\n",
        "print()\n",
        "print(\"----- Example features -----\\n\")\n",
        "print(training_df.head())"
      ]
    },
    {
      "cell_type": "code",
      "execution_count": 8,
      "metadata": {
        "colab": {
          "base_uri": "https://localhost:8080/"
        },
        "id": "VlNUIVezjQKx",
        "outputId": "8743c8e3-1e7a-4884-d96a-53d9ffceba0b"
      },
      "outputs": [
        {
          "name": "stderr",
          "output_type": "stream",
          "text": [
            "WARNING:root:_list_feature_views will make breaking changes. Please use _list_batch_feature_views instead. _list_feature_views will behave like _list_all_feature_views in the future.\n"
          ]
        },
        {
          "name": "stdout",
          "output_type": "stream",
          "text": [
            "\n",
            "----- Example features -----\n",
            "\n",
            "   driver_id                  event_timestamp  \\\n",
            "0       1002 2024-07-05 11:00:00.651808+00:00   \n",
            "1       1001 2024-07-05 11:00:00.651808+00:00   \n",
            "2       1003 2024-07-05 11:00:00.651808+00:00   \n",
            "\n",
            "   label_driver_reported_satisfaction  val_to_add  val_to_add_2  conv_rate  \\\n",
            "0                                   5           2            20   0.278025   \n",
            "1                                   1           1            10   0.783102   \n",
            "2                                   3           3            30   0.981281   \n",
            "\n",
            "   acc_rate  avg_daily_trips  conv_rate_plus_val1  conv_rate_plus_val2  \n",
            "0  0.472908              382             2.278025            20.278025  \n",
            "1  0.840802              195             1.783102            10.783102  \n",
            "2  0.589697              766             3.981281            30.981281  \n"
          ]
        }
      ],
      "source": [
        "entity_df[\"event_timestamp\"] = pd.to_datetime(\"now\", utc=True)\n",
        "training_df = store.get_historical_features(\n",
        "    entity_df=entity_df,\n",
        "    features=[\n",
        "        \"driver_hourly_stats:conv_rate\",\n",
        "        \"driver_hourly_stats:acc_rate\",\n",
        "        \"driver_hourly_stats:avg_daily_trips\",\n",
        "        \"transformed_conv_rate:conv_rate_plus_val1\",\n",
        "        \"transformed_conv_rate:conv_rate_plus_val2\",\n",
        "    ],\n",
        ").to_df()\n",
        "\n",
        "print(\"\\n----- Example features -----\\n\")\n",
        "print(training_df.head())"
      ]
    },
    {
      "cell_type": "code",
      "execution_count": 10,
      "metadata": {
        "colab": {
          "base_uri": "https://localhost:8080/"
        },
        "id": "sRnb_Y0Zjpbf",
        "outputId": "0b659ae1-0f97-437f-b559-d506a8b3f155"
      },
      "outputs": [
        {
          "name": "stderr",
          "output_type": "stream",
          "text": [
            "/usr/local/lib/python3.10/dist-packages/ipykernel/ipkernel.py:283: DeprecationWarning: `should_run_async` will not call `transform_cell` automatically in the future. Please pass the result to `transformed_cell` argument and any exception that happen during thetransform in `preprocessing_exc_tuple` in IPython 7.17 and above.\n",
            "  and should_run_async(code)\n"
          ]
        },
        {
          "name": "stdout",
          "output_type": "stream",
          "text": [
            "Materializing \u001b[1m\u001b[32m2\u001b[0m feature views to \u001b[1m\u001b[32m2024-07-05 11:01:48+00:00\u001b[0m into the \u001b[1m\u001b[32msqlite\u001b[0m online store.\n",
            "\n",
            "\u001b[1m\u001b[32mdriver_hourly_stats\u001b[0m from \u001b[1m\u001b[32m2024-07-04 11:01:54+00:00\u001b[0m to \u001b[1m\u001b[32m2024-07-05 11:01:48+00:00\u001b[0m:\n",
            "\u001b[1m\u001b[32mdriver_hourly_stats_fresh\u001b[0m from \u001b[1m\u001b[32m2024-07-04 11:01:54+00:00\u001b[0m to \u001b[1m\u001b[32m2024-07-05 11:01:48+00:00\u001b[0m:\n"
          ]
        },
        {
          "name": "stderr",
          "output_type": "stream",
          "text": [
            "07/05/2024 11:01:54 AM root WARNING: _list_feature_views will make breaking changes. Please use _list_batch_feature_views instead. _list_feature_views will behave like _list_all_feature_views in the future.\n",
            "\r  0%|                                                                         | 0/5 [00:00<?, ?it/s]07/05/2024 11:01:54 AM root WARNING: Cannot use sqlite_vec for vector search\n",
            "\r100%|████████████████████████████████████████████████████████████████| 5/5 [00:00<00:00, 310.58it/s]\n",
            "\r  0%|                                                                         | 0/5 [00:00<?, ?it/s]\r100%|████████████████████████████████████████████████████████████████| 5/5 [00:00<00:00, 421.78it/s]\n"
          ]
        }
      ],
      "source": [
        "%%sh\n",
        "\n",
        "CURRENT_TIME=$(date -u +\"%Y-%m-%dT%H:%M:%S\")\n",
        "feast materialize-incremental $CURRENT_TIME"
      ]
    },
    {
      "cell_type": "code",
      "execution_count": 11,
      "metadata": {
        "colab": {
          "base_uri": "https://localhost:8080/"
        },
        "id": "8wVrZdnYjyyp",
        "outputId": "63df7a40-1f1a-40b3-94d0-2ceddeddf13c"
      },
      "outputs": [
        {
          "name": "stderr",
          "output_type": "stream",
          "text": [
            "WARNING:root:_list_feature_views will make breaking changes. Please use _list_batch_feature_views instead. _list_feature_views will behave like _list_all_feature_views in the future.\n",
            "WARNING:root:Cannot use sqlite_vec for vector search\n"
          ]
        },
        {
          "name": "stdout",
          "output_type": "stream",
          "text": [
            "{'acc_rate': [0.5811399817466736, 0.3614414632320404],\n",
            " 'avg_daily_trips': [509, 498],\n",
            " 'conv_rate': [0.22280587255954742, 0.5063762068748474],\n",
            " 'driver_id': [1004, 1005]}\n"
          ]
        }
      ],
      "source": [
        "from pprint import pprint\n",
        "from feast import FeatureStore\n",
        "\n",
        "store = FeatureStore(repo_path=\".\")\n",
        "\n",
        "feature_vector = store.get_online_features(\n",
        "    features=[\n",
        "        \"driver_hourly_stats:conv_rate\",\n",
        "        \"driver_hourly_stats:acc_rate\",\n",
        "        \"driver_hourly_stats:avg_daily_trips\",\n",
        "    ],\n",
        "    entity_rows=[\n",
        "        # {join_key: entity_value}\n",
        "        {\"driver_id\": 1004},\n",
        "        {\"driver_id\": 1005},\n",
        "    ],\n",
        ").to_dict()\n",
        "\n",
        "pprint(feature_vector)"
      ]
    }
  ],
  "metadata": {
    "colab": {
      "provenance": []
    },
    "kernelspec": {
      "display_name": "Python 3",
      "name": "python3"
    },
    "language_info": {
      "codemirror_mode": {
        "name": "ipython",
        "version": 3
      },
      "file_extension": ".py",
      "mimetype": "text/x-python",
      "name": "python",
      "nbconvert_exporter": "python",
      "pygments_lexer": "ipython3",
      "version": "3.10.12"
    }
  },
  "nbformat": 4,
  "nbformat_minor": 0
}

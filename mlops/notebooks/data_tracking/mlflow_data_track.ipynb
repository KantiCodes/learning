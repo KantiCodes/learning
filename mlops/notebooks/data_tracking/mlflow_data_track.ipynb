{
 "cells": [
  {
   "cell_type": "raw",
   "id": "7f671e7b",
   "metadata": {},
   "source": []
  },
  {
   "cell_type": "raw",
   "id": "3a8df2f1-84a8-46f9-aaad-c3e728cb04c3",
   "metadata": {},
   "source": [
    "https://mlflow.org/docs/latest/getting-started/intro-quickstart/index.html\n",
    "with additional of data-tracking functionality from https://mlflow.org/docs/latest/tracking/data-api.html\n",
    "\n",
    "run before: CLI mlflow server --host 127.0.0.1 --port 8080"
   ]
  },
  {
   "cell_type": "code",
   "execution_count": 1,
   "id": "bc99423d-8399-41f1-8c56-eeabdf511f82",
   "metadata": {},
   "outputs": [],
   "source": [
    "import mlflow\n",
    "\n",
    "mlflow.set_tracking_uri(uri=\"http://127.0.0.1:8080\")"
   ]
  },
  {
   "cell_type": "raw",
   "id": "b1a8f002-5f7c-4aca-b1fe-b89b978449c2",
   "metadata": {},
   "source": [
    "Train a model and prepare metadata for logging"
   ]
  },
  {
   "cell_type": "code",
   "execution_count": 2,
   "id": "b23cf2c3-dc07-429d-a8c1-e43ac7d22aba",
   "metadata": {},
   "outputs": [
    {
     "name": "stderr",
     "output_type": "stream",
     "text": [
      "/home/bla/.local/share/virtualenvs/mlops-0su7QrrH/lib/python3.10/site-packages/sklearn/linear_model/_logistic.py:1247: FutureWarning: 'multi_class' was deprecated in version 1.5 and will be removed in 1.7. From then on, it will always use 'multinomial'. Leave it to its default value to avoid this warning.\n",
      "  warnings.warn(\n"
     ]
    }
   ],
   "source": [
    "from mlflow.models import infer_signature\n",
    "\n",
    "import pandas as pd\n",
    "from sklearn import datasets\n",
    "from sklearn.model_selection import train_test_split\n",
    "from sklearn.linear_model import LogisticRegression\n",
    "from sklearn.metrics import accuracy_score, precision_score, recall_score, f1_score\n",
    "\n",
    "\n",
    "# Load the Iris dataset\n",
    "X, y = datasets.load_iris(return_X_y=True)\n",
    "\n",
    "# Split the data into training and test sets\n",
    "X_train, X_test, y_train, y_test = train_test_split(\n",
    "    X, y, test_size=0.2, random_state=42\n",
    ")\n",
    "\n",
    "# Define the model hyperparameters\n",
    "params = {\n",
    "    \"solver\": \"lbfgs\",\n",
    "    \"max_iter\": 1000,\n",
    "    \"multi_class\": \"auto\",\n",
    "    \"random_state\": 8888,\n",
    "}\n",
    "\n",
    "# Train the model\n",
    "lr = LogisticRegression(**params)\n",
    "lr.fit(X_train, y_train)\n",
    "\n",
    "# Predict on the test set\n",
    "y_pred = lr.predict(X_test)\n",
    "\n",
    "# Calculate metrics\n",
    "accuracy = accuracy_score(y_test, y_pred)\n"
   ]
  },
  {
   "cell_type": "code",
   "execution_count": 3,
   "id": "78a93068-d3c9-40ef-9a7a-78d334ce1086",
   "metadata": {},
   "outputs": [
    {
     "name": "stderr",
     "output_type": "stream",
     "text": [
      "/home/bla/.local/share/virtualenvs/mlops-0su7QrrH/lib/python3.10/site-packages/mlflow/data/dataset_source_registry.py:149: UserWarning: Failed to determine whether UCVolumeDatasetSource can resolve source information for 'https://scikit-learn.org/stable/auto_examples/datasets/plot_iris_dataset.html'. Exception: \n",
      "  return _dataset_source_registry.resolve(\n"
     ]
    }
   ],
   "source": [
    "# Create an instance of a PandasDataset\n",
    "dataset = mlflow.data.from_numpy(\n",
    "    X_train, source=\"https://scikit-learn.org/stable/auto_examples/datasets/plot_iris_dataset.html\", name=\"iris\")"
   ]
  },
  {
   "cell_type": "raw",
   "id": "1c1690be-8867-49e3-bde2-1cb7b22a8762",
   "metadata": {},
   "source": [
    "Log the model and its metadata to MLflow"
   ]
  },
  {
   "cell_type": "code",
   "execution_count": 4,
   "id": "830b5950-3267-40a6-9fff-740c22a0b8a6",
   "metadata": {},
   "outputs": [
    {
     "name": "stderr",
     "output_type": "stream",
     "text": [
      "2024/09/05 10:13:54 INFO mlflow.tracking.fluent: Experiment with name 'MLflow Quickstart' does not exist. Creating a new experiment.\n"
     ]
    },
    {
     "name": "stderr",
     "output_type": "stream",
     "text": [
      "Successfully registered model 'tracking-quickstart'.\n",
      "2024/09/05 10:13:57 INFO mlflow.store.model_registry.abstract_store: Waiting up to 300 seconds for model version to finish creation. Model name: tracking-quickstart, version 1\n",
      "Created version '1' of model 'tracking-quickstart'.\n"
     ]
    },
    {
     "data": {
      "application/vnd.jupyter.widget-view+json": {
       "model_id": "be0159dabb5c402d8d8f7866d14ea520",
       "version_major": 2,
       "version_minor": 0
      },
      "text/plain": [
       "Downloading artifacts:   0%|          | 0/7 [00:00<?, ?it/s]"
      ]
     },
     "metadata": {},
     "output_type": "display_data"
    },
    {
     "name": "stderr",
     "output_type": "stream",
     "text": [
      "2024/09/05 10:13:57 INFO mlflow.tracking._tracking_service.client: 🏃 View run auspicious-dove-176 at: http://127.0.0.1:8080/#/experiments/824395778428720242/runs/51118cba4ffd4d43b9b1e4eb3a7a5dd5.\n",
      "2024/09/05 10:13:57 INFO mlflow.tracking._tracking_service.client: 🧪 View experiment at: http://127.0.0.1:8080/#/experiments/824395778428720242.\n"
     ]
    }
   ],
   "source": [
    "# Create a new MLflow Experiment\n",
    "mlflow.set_experiment(\"MLflow Quickstart\")\n",
    "\n",
    "# Start an MLflow run\n",
    "with mlflow.start_run() as run:\n",
    "    # Log the hyperparameters\n",
    "    mlflow.log_params(params)\n",
    "\n",
    "    # Log the loss metric\n",
    "    mlflow.log_metric(\"accuracy\", accuracy)\n",
    "\n",
    "    # Set a tag that we can use to remind ourselves what this run was for\n",
    "    mlflow.set_tag(\"Training Info\", \"Basic LR model for iris data\")\n",
    "\n",
    "    # Log the Dataset to an MLflow run by using the `log_input` API\n",
    "    mlflow.log_input(dataset, context=\"training\")\n",
    "\n",
    "    # Infer the model signature\n",
    "    signature = infer_signature(X_train, lr.predict(X_train))\n",
    "\n",
    "    # Log the model\n",
    "    model_info = mlflow.sklearn.log_model(\n",
    "        sk_model=lr,\n",
    "        artifact_path=\"iris_model\",\n",
    "        signature=signature,\n",
    "        input_example=X_train,\n",
    "        registered_model_name=\"tracking-quickstart\",\n",
    "    )\n"
   ]
  },
  {
   "cell_type": "markdown",
   "id": "fc68046f-78d4-42cb-9e01-289b8eb4fc4f",
   "metadata": {},
   "source": [
    "View the Run in the MLflow UI: http://127.0.0.1:8080"
   ]
  },
  {
   "cell_type": "code",
   "execution_count": null,
   "id": "88003da7-20f3-449f-b2d8-f3046e11ecd8",
   "metadata": {},
   "outputs": [
    {
     "name": "stdout",
     "output_type": "stream",
     "text": [
      "Dataset name: iris\n",
      "Dataset digest: 7fc7d768\n",
      "Dataset profile: {\"features_shape\": [120, 4], \"features_size\": 480, \"features_nbytes\": 3840}\n",
      "Dataset schema: {\"mlflow_tensorspec\": {\"features\": \"[{\\\"type\\\": \\\"tensor\\\", \\\"tensor-spec\\\": {\\\"dtype\\\": \\\"float64\\\", \\\"shape\\\": [-1, 4]}}]\", \"targets\": null}}\n"
     ]
    }
   ],
   "source": [
    "# Retrieve the run information\n",
    "logged_run = mlflow.get_run(run.info.run_id)\n",
    "\n",
    "# Retrieve the Dataset object\n",
    "logged_dataset = logged_run.inputs.dataset_inputs[0].dataset\n",
    "\n",
    "# View some of the recorded Dataset information\n",
    "print(f\"Dataset name: {logged_dataset.name}\")\n",
    "print(f\"Dataset digest: {logged_dataset.digest}\")\n",
    "print(f\"Dataset profile: {logged_dataset.profile}\")\n",
    "print(f\"Dataset schema: {logged_dataset.schema}\")"
   ]
  },
  {
   "cell_type": "code",
   "execution_count": null,
   "id": "672101a2",
   "metadata": {},
   "outputs": [],
   "source": []
  }
 ],
 "metadata": {
  "kernelspec": {
   "display_name": "mlops-0su7QrrH",
   "language": "python",
   "name": "python3"
  },
  "language_info": {
   "codemirror_mode": {
    "name": "ipython",
    "version": 3
   },
   "file_extension": ".py",
   "mimetype": "text/x-python",
   "name": "python",
   "nbconvert_exporter": "python",
   "pygments_lexer": "ipython3",
   "version": "3.10.12"
  }
 },
 "nbformat": 4,
 "nbformat_minor": 5
}

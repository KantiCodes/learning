{
  "cells": [
    {
      "cell_type": "markdown",
      "metadata": {
        "id": "pZbwTBdzXGHX"
      },
      "source": [
        "https://dvc.org/doc/start \n",
        "# What it is:\n",
        "- tool for a _data versioning_ of files using Git. You can checkout different commits and see the data at this point.\n",
        "- tool for a **naive** _lineage_ tracking (lineag is metadata about the data, like how it was generated, what was the input data, etc) that can be achieved using for instance git commit messages\n",
        "\n",
        "# More info\n",
        "- alternative would be to use Git Large Files storage\n",
        "- https://www.pachyderm.com/ also another alternative (not open source, not easy to use but serious organization use it)\n",
        "- Azure ML, SageMaker etc....\n",
        "- why DVC and not Git Large Files Storage, DVC Supports pipelines - defining multiple steps from data. Imagine you have couple of python files that process and transform the data. Alternative to this is an ML Flow Pipeline\n",
        "\n",
        "# My feeling\n",
        "- I don't think it's very relevant for our use case since it mainly used to track changes in files. As for the database we have apply to and apply from. Let me know if you think otherwise "
      ]
    },
    {
      "cell_type": "code",
      "execution_count": 1,
      "metadata": {
        "id": "_fQSJOn2O4Rm"
      },
      "outputs": [
        {
          "name": "stdout",
          "output_type": "stream",
          "text": [
            "/home/bla/.local/share/virtualenvs/mlops-0su7QrrH/bin/python\n",
            "/home/bla/.local/share/virtualenvs/mlops-0su7QrrH/bin/python\n"
          ]
        }
      ],
      "source": [
        "!where python\n",
        "!cd"
      ]
    },
    {
      "cell_type": "code",
      "execution_count": 2,
      "metadata": {
        "colab": {
          "base_uri": "https://localhost:8080/"
        },
        "id": "qsO59qwRPOgC",
        "outputId": "ee5ab3d4-f3c7-43cd-88a9-c585f3679d90"
      },
      "outputs": [
        {
          "name": "stdout",
          "output_type": "stream",
          "text": [
            "Reinitialized existing Git repository in /home/bla/projects/aau/mlops/notebooks/.git/\n"
          ]
        }
      ],
      "source": [
        "!git config --global user.email \"bla@norlysenergytrading.com\"\n",
        "!git config --global user.name \"bla\"\n",
        "!git init"
      ]
    },
    {
      "cell_type": "markdown",
      "metadata": {
        "id": "LOwVmlR8Q2yt"
      },
      "source": [
        "# Initializing a project"
      ]
    },
    {
      "cell_type": "code",
      "execution_count": 32,
      "metadata": {
        "id": "8yMuSSrzPQiA"
      },
      "outputs": [
        {
          "name": "stdout",
          "output_type": "stream",
          "text": [
            "mkdir: cannot create directory ‘my_repo’: No such file or directory\n"
          ]
        }
      ],
      "source": [
        "!mkdir my_repo"
      ]
    },
    {
      "cell_type": "code",
      "execution_count": 33,
      "metadata": {
        "colab": {
          "base_uri": "https://localhost:8080/"
        },
        "id": "6EhdnDuOQGuv",
        "outputId": "48455cbf-39d0-4ade-9d82-38d275c47048"
      },
      "outputs": [
        {
          "name": "stdout",
          "output_type": "stream",
          "text": [
            "[Errno 2] No such file or directory: 'my_repo'\n",
            "/home/bla/projects/aau/mlops/notebooks/my_repo/my_repo\n"
          ]
        },
        {
          "name": "stderr",
          "output_type": "stream",
          "text": [
            "/home/bla/.local/share/virtualenvs/mlops-0su7QrrH/lib/python3.10/site-packages/IPython/core/magics/osm.py:393: UserWarning: This is now an optional IPython functionality, using bookmarks requires you to install the `pickleshare` library.\n",
            "  bkms = self.shell.db.get('bookmarks', {})\n"
          ]
        }
      ],
      "source": [
        "cd my_repo"
      ]
    },
    {
      "cell_type": "code",
      "execution_count": 34,
      "metadata": {
        "colab": {
          "base_uri": "https://localhost:8080/"
        },
        "id": "-xzVubaIQLk2",
        "outputId": "fcfd7089-87b9-410a-bf39-fd4704e9e8b4"
      },
      "outputs": [
        {
          "name": "stdout",
          "output_type": "stream",
          "text": [
            "fatal: unable to get current working directory: No such file or directory\n"
          ]
        }
      ],
      "source": [
        "!git init"
      ]
    },
    {
      "cell_type": "code",
      "execution_count": 35,
      "metadata": {},
      "outputs": [
        {
          "name": "stdout",
          "output_type": "stream",
          "text": [
            "\u001b[31mERROR\u001b[39m: unexpected error - [Errno 2] No such file or directory\n",
            "\n",
            "\u001b[33mHaving any troubles?\u001b[0m Hit us up at \u001b[34mhttps://dvc.org/support\u001b[0m, we are always happy to help!\n",
            "Traceback (most recent call last):\n",
            "  File \"/home/bla/.local/share/virtualenvs/mlops-0su7QrrH/bin/dvc\", line 8, in <module>\n",
            "    sys.exit(main())\n",
            "  File \"/home/bla/.local/share/virtualenvs/mlops-0su7QrrH/lib/python3.10/site-packages/dvc/cli/__init__.py\", line 243, in main\n",
            "    if analytics.is_enabled():\n",
            "  File \"/home/bla/.local/share/virtualenvs/mlops-0su7QrrH/lib/python3.10/site-packages/dvc/analytics.py\", line 53, in is_enabled\n",
            "    Config.from_cwd(validate=False).get(\"core\", {}).get(\"analytics\", \"true\")\n",
            "  File \"/home/bla/.local/share/virtualenvs/mlops-0su7QrrH/lib/python3.10/site-packages/dvc/config.py\", line 124, in from_cwd\n",
            "    dvc_dir = Repo.find_dvc_dir(fs=fs)\n",
            "  File \"/home/bla/.local/share/virtualenvs/mlops-0su7QrrH/lib/python3.10/site-packages/dvc/repo/__init__.py\", line 438, in find_dvc_dir\n",
            "    root_dir = cls.find_root(root, fs=fs)\n",
            "  File \"/home/bla/.local/share/virtualenvs/mlops-0su7QrrH/lib/python3.10/site-packages/dvc/repo/__init__.py\", line 410, in find_root\n",
            "    root_dir = fs.abspath(root)\n",
            "  File \"/home/bla/.local/share/virtualenvs/mlops-0su7QrrH/lib/python3.10/site-packages/dvc_objects/fs/base.py\", line 133, in abspath\n",
            "    path = self.join(self.getcwd(), path)\n",
            "  File \"/home/bla/.local/share/virtualenvs/mlops-0su7QrrH/lib/python3.10/site-packages/dvc_objects/fs/local.py\", line 189, in getcwd\n",
            "    return os.getcwd()\n",
            "FileNotFoundError: [Errno 2] No such file or directory\n",
            "\u001b[0m"
          ]
        }
      ],
      "source": [
        "!dvc init"
      ]
    },
    {
      "cell_type": "code",
      "execution_count": 7,
      "metadata": {
        "colab": {
          "base_uri": "https://localhost:8080/"
        },
        "id": "g9yISsClQVDk",
        "outputId": "60a705c9-59f8-47ea-ab5d-0e5905eb00a5"
      },
      "outputs": [
        {
          "name": "stdout",
          "output_type": "stream",
          "text": [
            "On branch main\n",
            "\n",
            "No commits yet\n",
            "\n",
            "Changes to be committed:\n",
            "  (use \"git rm --cached <file>...\" to unstage)\n",
            "\t\u001b[32mnew file:   .dvc/.gitignore\u001b[m\n",
            "\t\u001b[32mnew file:   .dvc/config\u001b[m\n",
            "\t\u001b[32mnew file:   .dvcignore\u001b[m\n",
            "\n"
          ]
        }
      ],
      "source": [
        "!git status"
      ]
    },
    {
      "cell_type": "code",
      "execution_count": 8,
      "metadata": {
        "colab": {
          "base_uri": "https://localhost:8080/"
        },
        "id": "PRsDSxE9Qans",
        "outputId": "fdb5a22c-9649-4205-e96a-43f49d1f8120"
      },
      "outputs": [
        {
          "name": "stdout",
          "output_type": "stream",
          "text": [
            "[main (root-commit) 6421070] Initialize DVC\n",
            " 3 files changed, 6 insertions(+)\n",
            " create mode 100644 .dvc/.gitignore\n",
            " create mode 100644 .dvc/config\n",
            " create mode 100644 .dvcignore\n"
          ]
        }
      ],
      "source": [
        "!git commit -m \"Initialize DVC\""
      ]
    },
    {
      "cell_type": "markdown",
      "metadata": {
        "id": "OEPq0eUfQ8s4"
      },
      "source": [
        "# Tracking data"
      ]
    },
    {
      "cell_type": "markdown",
      "metadata": {
        "id": "nDEbEnxIRFq0"
      },
      "source": [
        "DVC can turn any Git repo into a \"data registry\"\n",
        "\n",
        "dvc get can download any file or directory tracked in a DVC repository"
      ]
    },
    {
      "cell_type": "code",
      "execution_count": 9,
      "metadata": {
        "colab": {
          "base_uri": "https://localhost:8080/"
        },
        "id": "_Uxui0ZgQgsH",
        "outputId": "69ff5162-220b-4fb3-800f-fc6ac06456e8"
      },
      "outputs": [
        {
          "name": "stdout",
          "output_type": "stream",
          "text": [
            "\u001b[0m                                                                            "
          ]
        }
      ],
      "source": [
        "!dvc get https://github.com/iterative/dataset-registry \\\n",
        "          get-started/data.xml -o data/data.xml"
      ]
    },
    {
      "cell_type": "markdown",
      "metadata": {
        "id": "_6Vrl0rzRNx2"
      },
      "source": [
        "dvc add starts tracking the dataset file"
      ]
    },
    {
      "cell_type": "code",
      "execution_count": 10,
      "metadata": {
        "colab": {
          "base_uri": "https://localhost:8080/"
        },
        "id": "w9VnoLhCRSOD",
        "outputId": "c831a46e-567c-4fa6-bec2-f4aedd388aa1"
      },
      "outputs": [
        {
          "name": "stdout",
          "output_type": "stream",
          "text": [
            "\u001b[?25l\u001b[32m⠋\u001b[0m Checking graph                                       core\u001b[39m>\n",
            "Adding...                                                                       \n",
            "!\u001b[A\n",
            "Collecting files and computing hashes in data/data.xml |0.00 [00:00,     ?file/s\u001b[A\n",
            "                                                                                \u001b[A\n",
            "!\u001b[A\n",
            "  0% Checking cache in '/home/bla/projects/aau/mlops/notebooks/my_repo/.dvc/cach\u001b[A\n",
            "                                                                                \u001b[A\n",
            "!\u001b[A\n",
            "  0%|          |Adding data/data.xml to cache         0/1 [00:00<?,     ?file/s]\u001b[A\n",
            "                                                                                \u001b[A\n",
            "!\u001b[A\n",
            "  0%|          |Checking out /home/bla/projects/aau/ml0/1 [00:00<?,    ?files/s]\u001b[A\n",
            "100% Adding...|████████████████████████████████████████|1/1 [00:00,  8.08file/s]\u001b[A\n",
            "\n",
            "To track the changes with git, run:\n",
            "\n",
            "\tgit add data/data.xml.dvc data/.gitignore\n",
            "\n",
            "To enable auto staging, run:\n",
            "\n",
            "\tdvc config core.autostage true\n",
            "\u001b[0m"
          ]
        }
      ],
      "source": [
        "!dvc add data/data.xml"
      ]
    },
    {
      "cell_type": "markdown",
      "metadata": {
        "id": "TQ37aVo6Rgtv"
      },
      "source": [
        "DVC stores information about the added file in a special .dvc file named data/data.xml.dvc\n",
        "\n",
        "This small, human-readable metadata file acts as a placeholder for the original data for the purpose of Git tracking.\n",
        "\n",
        "The following commands track changes in Git:"
      ]
    },
    {
      "cell_type": "code",
      "execution_count": 11,
      "metadata": {
        "colab": {
          "base_uri": "https://localhost:8080/"
        },
        "id": "oiDq9eTGRv0j",
        "outputId": "d1b7b926-aff8-4e8e-dead-a86d3d0162ee"
      },
      "outputs": [
        {
          "name": "stdout",
          "output_type": "stream",
          "text": [
            "[main cfdd33e] Add raw data\n",
            " 2 files changed, 6 insertions(+)\n",
            " create mode 100644 data/.gitignore\n",
            " create mode 100644 data/data.xml.dvc\n"
          ]
        }
      ],
      "source": [
        "!git add data/data.xml.dvc data/.gitignore\n",
        "!git commit -m \"Add raw data\""
      ]
    },
    {
      "cell_type": "markdown",
      "metadata": {
        "id": "dSZ3SCXdSeQj"
      },
      "source": [
        "# Storing and sharing"
      ]
    },
    {
      "cell_type": "markdown",
      "metadata": {
        "id": "O5ZQzzlqTgwZ"
      },
      "source": [
        "DVC supports many remote storage types, including Amazon S3, NFS, SSH, Google Drive, Azure Blob Storage, and HDFS.\n",
        "\n",
        "Example: `dvc remote add -d storage s3://mybucket/dvcstore`\n",
        "\n",
        "For simplicity, we will use a \"local remote\""
      ]
    },
    {
      "cell_type": "code",
      "execution_count": 12,
      "metadata": {
        "id": "cLKoYLFUSf5w"
      },
      "outputs": [
        {
          "name": "stdout",
          "output_type": "stream",
          "text": [
            "mkdir: cannot create directory ‘/content/dvcstore’: No such file or directory\n"
          ]
        }
      ],
      "source": [
        "!mkdir /content/dvcstore"
      ]
    },
    {
      "cell_type": "code",
      "execution_count": 13,
      "metadata": {
        "colab": {
          "base_uri": "https://localhost:8080/"
        },
        "id": "D9N-n1l0Tuhm",
        "outputId": "68af231c-485e-4164-e760-2696e6100481"
      },
      "outputs": [
        {
          "name": "stdout",
          "output_type": "stream",
          "text": [
            "Setting 'myremote' as a default remote.\n",
            "\u001b[0m"
          ]
        }
      ],
      "source": [
        "!dvc remote add -d myremote /content/dvcstore"
      ]
    },
    {
      "cell_type": "markdown",
      "metadata": {
        "id": "hT92q1AmUWNj"
      },
      "source": [
        "## Uploading data"
      ]
    },
    {
      "cell_type": "markdown",
      "metadata": {
        "id": "b-AouBcjUIwh"
      },
      "source": [
        "run dvc push to upload data:"
      ]
    },
    {
      "cell_type": "code",
      "execution_count": 15,
      "metadata": {
        "colab": {
          "base_uri": "https://localhost:8080/"
        },
        "id": "8KotAL92UNfH",
        "outputId": "98a0e482-db1b-4ff6-c265-4b7b4652fbd1"
      },
      "outputs": [
        {
          "name": "stdout",
          "output_type": "stream",
          "text": [
            "Collecting                                            |0.00 [00:00,    ?entry/s]\n",
            "Pushing\n",
            "!\u001b[A\n",
            "  0% Checking cache in '/content/dvcstore/files/md5'| |0/? [00:00<?,    ?files/s\u001b[A\n",
            "                                                                                \u001b[A\n",
            "!\u001b[A\n",
            "  0% Checking cache in '/home/bla/projects/aau/mlops/notebooks/my_repo/.dvc/cach\u001b[A\n",
            "                                                                                \u001b[A\n",
            "!\u001b[A\n",
            "  0%|          |Pushing to local                      0/1 [00:00<?,     ?file/s]\u001b[A\n",
            "Pushing                                                                         \u001b[A\n",
            "\u001b[31mERROR\u001b[39m: unexpected error - [Errno 13] Permission denied: '/content'\n",
            "\n",
            "\u001b[33mHaving any troubles?\u001b[0m Hit us up at \u001b[34mhttps://dvc.org/support\u001b[0m, we are always happy to help!\n",
            "\u001b[0m"
          ]
        }
      ],
      "source": [
        "!dvc push"
      ]
    },
    {
      "cell_type": "markdown",
      "metadata": {
        "id": "RWY2r_6wUXtF"
      },
      "source": [
        "## Retrieving data"
      ]
    },
    {
      "cell_type": "markdown",
      "metadata": {
        "id": "U5SdCNCmUj1X"
      },
      "source": [
        "Once DVC-tracked data and models are stored remotely, they can be downloaded with dvc pull when needed"
      ]
    },
    {
      "cell_type": "code",
      "execution_count": 16,
      "metadata": {
        "colab": {
          "base_uri": "https://localhost:8080/"
        },
        "id": "Gka7k0o9UaAL",
        "outputId": "8a1ff597-4788-4326-8cdd-573d946bff39"
      },
      "outputs": [
        {
          "name": "stdout",
          "output_type": "stream",
          "text": [
            "Collecting                                            |1.00 [00:00, 79.1entry/s]\n",
            "Fetching\n",
            "!\u001b[A\n",
            "  0% Checking cache in '/home/bla/projects/aau/mlops/notebooks/my_repo/.dvc/cach\u001b[A\n",
            "Fetching                                                                        \u001b[A\n",
            "Building workspace index                              |2.00 [00:00,  396entry/s]\n",
            "Comparing indexes                                     |3.00 [00:00,  609entry/s]\n",
            "Applying changes                                      |0.00 [00:00,     ?file/s]\n",
            "Everything is up to date.\n",
            "\u001b[0m"
          ]
        }
      ],
      "source": [
        "!dvc pull"
      ]
    },
    {
      "cell_type": "markdown",
      "metadata": {
        "id": "sMR4POhWU7R3"
      },
      "source": [
        "## Making local changes"
      ]
    },
    {
      "cell_type": "markdown",
      "metadata": {
        "id": "t70a8cMwU_ag"
      },
      "source": [
        "Next, let's say we obtained more data from some external source. We will simulate this by doubling the dataset contents:"
      ]
    },
    {
      "cell_type": "code",
      "execution_count": 17,
      "metadata": {
        "id": "JkyrwrNRVDye"
      },
      "outputs": [
        {
          "name": "stdout",
          "output_type": "stream",
          "text": [
            "cp: cannot create regular file '/content/data2.xml': No such file or directory\n"
          ]
        }
      ],
      "source": [
        "!cp data/data.xml /content/data2.xml"
      ]
    },
    {
      "cell_type": "code",
      "execution_count": 35,
      "metadata": {
        "id": "_ECLj4xgVMNk"
      },
      "outputs": [],
      "source": [
        "!cat /content/data2.xml >> data/data.xml"
      ]
    },
    {
      "cell_type": "markdown",
      "metadata": {
        "id": "tX1qNMzWVSJ8"
      },
      "source": [
        "After modifying the data, run dvc add again to track the latest version"
      ]
    },
    {
      "cell_type": "code",
      "execution_count": 36,
      "metadata": {
        "colab": {
          "base_uri": "https://localhost:8080/"
        },
        "id": "OnrZdDfRVUs1",
        "outputId": "ba49e7c3-e353-49c2-862f-668f779d2cb8"
      },
      "outputs": [
        {
          "name": "stdout",
          "output_type": "stream",
          "text": [
            "\r!\rIf DVC froze, see `hardlink_lock` in <\u001b[36mhttps://man.dvc.org/config#core\u001b[39m>\r                                                                      \r\u001b[?25l\u001b[32m⠋\u001b[0m Checking graph\n",
            "\u001b[?25h\r\u001b[1A\u001b[2K\rAdding...:   0% 0/1 [00:00<?, ?file/s]\rAdding...:   0% 0/1 [00:00<?, ?file/s{'info': ''}]\rAdding...:   0% 0/1 [00:00<?, ?file/s{'info': ''}]\n",
            "!\u001b[A\n",
            "          |0.00 [00:00,     ?file/s]\u001b[A\n",
            "                                    \u001b[A\n",
            "!\u001b[A\n",
            "  0% |          |0/? [00:00<?,    ?files/s]\u001b[A\n",
            "                                           \u001b[A\n",
            "Adding data/data.xml to cache:   0% 0/1 [00:00<?, ?file/s]\u001b[A\n",
            "Adding data/data.xml to cache:   0% 0/1 [00:00<?, ?file/s{'info': ''}]\u001b[A\n",
            "                                                                      \u001b[A\n",
            "Checking out /content/my_repo/data/data.xml:   0% 0/1 [00:00<?, ?files/s]\u001b[A\n",
            "  0% 0/1 [00:00<?, ?files/s{'info': ''}]                                 \u001b[A\n",
            "Adding...: 100% 1/1 [00:00<00:00,  5.79file/s{'info': ''}]\n",
            "\n",
            "To track the changes with git, run:\n",
            "\n",
            "\tgit add data/data.xml.dvc\n",
            "\n",
            "To enable auto staging, run:\n",
            "\n",
            "\tdvc config core.autostage true\n",
            "\u001b[0m"
          ]
        }
      ],
      "source": [
        "!dvc add data/data.xml"
      ]
    },
    {
      "cell_type": "markdown",
      "metadata": {
        "id": "mbGModt-VZyA"
      },
      "source": [
        "Now we can run dvc push to upload the changes to the remote storage, followed by a git commit to track them"
      ]
    },
    {
      "cell_type": "code",
      "execution_count": 37,
      "metadata": {
        "colab": {
          "base_uri": "https://localhost:8080/"
        },
        "id": "CyyX1QveVcq1",
        "outputId": "09ccb574-de5f-46f3-88fb-7188110b1165"
      },
      "outputs": [
        {
          "name": "stdout",
          "output_type": "stream",
          "text": [
            "\r!\rIf DVC froze, see `hardlink_lock` in <\u001b[36mhttps://man.dvc.org/config#core\u001b[39m>\r                                                                      \r\r!\rCollecting          |0.00 [00:00,    ?entry/s]\rCollecting          |1.00 [00:00,  118entry/s]\n",
            "\r!\rPushing\n",
            "\r!\u001b[A\n",
            "\r  0% |          |0/? [00:00<?,    ?files/s]\u001b[A\n",
            "\r                                           \u001b[A\n",
            "\r!\u001b[A\n",
            "\r  0% |          |0/? [00:00<?,    ?files/s]\u001b[A\n",
            "\r                                           \u001b[A\n",
            "\rPushing to local:   0% 0/1 [00:00<?, ?file/s]\u001b[A\n",
            "\rPushing to local:   0% 0/1 [00:00<?, ?file/s{'info': ''}]\u001b[A\n",
            "\r                                                         \u001b[A\rPushing\n",
            "1 file pushed\n",
            "\u001b[0m"
          ]
        }
      ],
      "source": [
        "!dvc push"
      ]
    },
    {
      "cell_type": "code",
      "execution_count": 38,
      "metadata": {
        "colab": {
          "base_uri": "https://localhost:8080/"
        },
        "id": "r3Voy0QMVfge",
        "outputId": "8b54395d-6ef6-43fa-b1dc-fe0a5d2ec367"
      },
      "outputs": [
        {
          "name": "stdout",
          "output_type": "stream",
          "text": [
            "[master 747e67f] Dataset updates\n",
            " 1 file changed, 2 insertions(+), 2 deletions(-)\n"
          ]
        }
      ],
      "source": [
        "!git commit data/data.xml.dvc -m \"Dataset updates\""
      ]
    },
    {
      "cell_type": "markdown",
      "metadata": {
        "id": "_9-7tesMV6dN"
      },
      "source": [
        "# Switching between versions"
      ]
    },
    {
      "cell_type": "markdown",
      "metadata": {
        "id": "QQF3ATrxV9Ic"
      },
      "source": [
        "A commonly used workflow is to use git checkout to switch to a branch or checkout a specific .dvc file revision, followed by a dvc checkout to sync data into your workspace:"
      ]
    },
    {
      "cell_type": "code",
      "execution_count": 39,
      "metadata": {
        "colab": {
          "base_uri": "https://localhost:8080/"
        },
        "id": "-ImnNLw1WA3E",
        "outputId": "324c2299-39f4-4d86-f5ec-8b228e694b05"
      },
      "outputs": [
        {
          "name": "stdout",
          "output_type": "stream",
          "text": [
            "M\t.dvc/config\n"
          ]
        }
      ],
      "source": [
        "!git checkout"
      ]
    },
    {
      "cell_type": "code",
      "execution_count": 40,
      "metadata": {
        "colab": {
          "base_uri": "https://localhost:8080/"
        },
        "id": "SUpFyPcdWHW6",
        "outputId": "7a90077e-29e6-4684-cfc2-d95f7b2261eb"
      },
      "outputs": [
        {
          "name": "stdout",
          "output_type": "stream",
          "text": [
            "\r!\rIf DVC froze, see `hardlink_lock` in <\u001b[36mhttps://man.dvc.org/config#core\u001b[39m>\r                                                                      \r\r!\rBuilding workspace index          |0.00 [00:00,    ?entry/s]\rBuilding workspace index          |2.00 [00:00, 73.6entry/s]\n",
            "\r!\rComparing indexes          |0.00 [00:00,    ?entry/s]\rComparing indexes          |3.00 [00:00, 1.07kentry/s]\n",
            "\r!\rApplying changes          |0.00 [00:00,     ?file/s]\rApplying changes          |0.00 [00:00,     ?file/s]\n",
            "\u001b[0m"
          ]
        }
      ],
      "source": [
        "!stat data/data.xml"
      ]
    }
  ],
  "metadata": {
    "colab": {
      "provenance": []
    },
    "kernelspec": {
      "display_name": "Python 3",
      "name": "python3"
    },
    "language_info": {
      "codemirror_mode": {
        "name": "ipython",
        "version": 3
      },
      "file_extension": ".py",
      "mimetype": "text/x-python",
      "name": "python",
      "nbconvert_exporter": "python",
      "pygments_lexer": "ipython3",
      "version": "3.10.12"
    }
  },
  "nbformat": 4,
  "nbformat_minor": 0
}
